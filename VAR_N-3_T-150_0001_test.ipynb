{
 "cells": [
  {
   "cell_type": "code",
   "execution_count": 57,
   "metadata": {},
   "outputs": [
    {
     "name": "stdout",
     "output_type": "stream",
     "text": [
      "        val1     val2     val3\n",
      "0   -0.63055 -2.57782  1.19274\n",
      "1   -1.23515  0.50903  1.28163\n",
      "2    0.71532  1.44172  0.07593\n",
      "3    0.26865 -1.04628  0.45085\n",
      "4   -1.35029 -1.31978  0.66161\n",
      "..       ...      ...      ...\n",
      "145 -3.53686 -0.76707 -4.19421\n",
      "146 -1.63067  1.39436 -1.94922\n",
      "147  0.61811  0.32987 -2.76595\n",
      "148  0.92184 -0.07188 -3.84604\n",
      "149 -1.58918  0.19608 -1.79202\n",
      "\n",
      "[150 rows x 3 columns]\n"
     ]
    }
   ],
   "source": [
    "import pandas as pd\n",
    "import numpy as np\n",
    "import plotly.express as px\n",
    "\n",
    "dtypes = {'col1': float, 'col2': float, 'col3': float}\n",
    "colnames = ['val1', 'val2', 'val3']\n",
    "df_1 = pd.read_csv('/Users/klaustan/Documents/Folder Storage/Work/College/Work/linear-VAR_N-3_T-150/linear-VAR_N-3_T-150_0001.txt',  delim_whitespace=True, header=None, names=colnames, dtype = dtypes)\n",
    "print(df_1)"
   ]
  },
  {
   "cell_type": "code",
   "execution_count": 58,
   "metadata": {},
   "outputs": [
    {
     "data": {
      "application/vnd.plotly.v1+json": {
       "config": {
        "plotlyServerURL": "https://plot.ly"
       },
       "data": [
        {
         "hovertemplate": "variable=val1<br>index=%{x}<br>value=%{y}<extra></extra>",
         "legendgroup": "val1",
         "line": {
          "color": "#636efa",
          "dash": "solid"
         },
         "marker": {
          "symbol": "circle"
         },
         "mode": "lines",
         "name": "val1",
         "orientation": "v",
         "showlegend": true,
         "type": "scatter",
         "x": [
          0,
          1,
          2,
          3,
          4,
          5,
          6,
          7,
          8,
          9,
          10,
          11,
          12,
          13,
          14,
          15,
          16,
          17,
          18,
          19,
          20,
          21,
          22,
          23,
          24,
          25,
          26,
          27,
          28,
          29,
          30,
          31,
          32,
          33,
          34,
          35,
          36,
          37,
          38,
          39,
          40,
          41,
          42,
          43,
          44,
          45,
          46,
          47,
          48,
          49,
          50,
          51,
          52,
          53,
          54,
          55,
          56,
          57,
          58,
          59,
          60,
          61,
          62,
          63,
          64,
          65,
          66,
          67,
          68,
          69,
          70,
          71,
          72,
          73,
          74,
          75,
          76,
          77,
          78,
          79,
          80,
          81,
          82,
          83,
          84,
          85,
          86,
          87,
          88,
          89,
          90,
          91,
          92,
          93,
          94,
          95,
          96,
          97,
          98,
          99,
          100,
          101,
          102,
          103,
          104,
          105,
          106,
          107,
          108,
          109,
          110,
          111,
          112,
          113,
          114,
          115,
          116,
          117,
          118,
          119,
          120,
          121,
          122,
          123,
          124,
          125,
          126,
          127,
          128,
          129,
          130,
          131,
          132,
          133,
          134,
          135,
          136,
          137,
          138,
          139,
          140,
          141,
          142,
          143,
          144,
          145,
          146,
          147,
          148,
          149
         ],
         "xaxis": "x",
         "y": [
          -0.63055,
          -1.23515,
          0.71532,
          0.26865,
          -1.35029,
          -1.18137,
          1.4986,
          -0.29561,
          -1.0777,
          -1.16227,
          0.10444,
          -0.36611,
          -1.54877,
          -1.58057,
          -1.36057,
          -0.54986,
          -0.89475,
          -0.00321,
          0.19916,
          -0.58331,
          0.78491,
          0.0949,
          0.70657,
          0.99012,
          -1.18748,
          0.22362,
          0.37597,
          -2.33394,
          -0.12698,
          0.41764,
          -2.18143,
          -1.36916,
          -0.40507,
          -1.10752,
          -1.67691,
          -1.17779,
          -0.78981,
          -1.41191,
          -0.84897,
          -1.09962,
          -0.89368,
          -1.48201,
          0.39527,
          0.37221,
          0.27144,
          0.72688,
          1.57117,
          1.2794,
          -0.2429,
          1.60903,
          2.59989,
          1.7728,
          1.50608,
          0.0715,
          -1.41402,
          -0.17616,
          0.6658,
          -0.08758,
          1.02677,
          1.01188,
          0.50347,
          1.55301,
          1.78106,
          1.2238,
          1.7586,
          1.16372,
          1.03665,
          0.40321,
          -1.0297,
          0.97637,
          1.20203,
          0.95597,
          1.42642,
          0.10711,
          0.3034,
          1.74028,
          0.63615,
          1.57403,
          2.68503,
          1.04441,
          2.43679,
          1.49196,
          -0.77756,
          -1.06323,
          -0.08577,
          0.15138,
          -0.28221,
          0.9794,
          1.21105,
          -0.4397,
          0.19575,
          -1.73706,
          0.11137,
          0.15325,
          0.46969,
          -0.92589,
          -0.56559,
          -0.8436,
          0.44051,
          -0.8279,
          -0.29064,
          0.56988,
          -0.42853,
          2.35002,
          0.83656,
          2.00456,
          0.39852,
          0.26674,
          0.99899,
          -1.26241,
          0.51402,
          2.27504,
          1.03571,
          1.95906,
          2.12881,
          1.17886,
          1.40341,
          -0.19633,
          0.0872,
          0.4569,
          0.86476,
          0.57463,
          -0.83068,
          -2.11145,
          -2.6595,
          -2.90582,
          -2.93009,
          -2.19993,
          -2.00597,
          -0.98674,
          -0.49357,
          1.30169,
          -0.53665,
          -1.39581,
          -0.30346,
          -0.96652,
          -1.34267,
          -2.50044,
          -1.82332,
          -1.0002,
          -1.72815,
          -1.91408,
          -2.08445,
          -2.8809,
          -1.55982,
          -3.53686,
          -1.63067,
          0.61811,
          0.92184,
          -1.58918
         ],
         "yaxis": "y"
        },
        {
         "hovertemplate": "variable=val2<br>index=%{x}<br>value=%{y}<extra></extra>",
         "legendgroup": "val2",
         "line": {
          "color": "#EF553B",
          "dash": "solid"
         },
         "marker": {
          "symbol": "circle"
         },
         "mode": "lines",
         "name": "val2",
         "orientation": "v",
         "showlegend": true,
         "type": "scatter",
         "x": [
          0,
          1,
          2,
          3,
          4,
          5,
          6,
          7,
          8,
          9,
          10,
          11,
          12,
          13,
          14,
          15,
          16,
          17,
          18,
          19,
          20,
          21,
          22,
          23,
          24,
          25,
          26,
          27,
          28,
          29,
          30,
          31,
          32,
          33,
          34,
          35,
          36,
          37,
          38,
          39,
          40,
          41,
          42,
          43,
          44,
          45,
          46,
          47,
          48,
          49,
          50,
          51,
          52,
          53,
          54,
          55,
          56,
          57,
          58,
          59,
          60,
          61,
          62,
          63,
          64,
          65,
          66,
          67,
          68,
          69,
          70,
          71,
          72,
          73,
          74,
          75,
          76,
          77,
          78,
          79,
          80,
          81,
          82,
          83,
          84,
          85,
          86,
          87,
          88,
          89,
          90,
          91,
          92,
          93,
          94,
          95,
          96,
          97,
          98,
          99,
          100,
          101,
          102,
          103,
          104,
          105,
          106,
          107,
          108,
          109,
          110,
          111,
          112,
          113,
          114,
          115,
          116,
          117,
          118,
          119,
          120,
          121,
          122,
          123,
          124,
          125,
          126,
          127,
          128,
          129,
          130,
          131,
          132,
          133,
          134,
          135,
          136,
          137,
          138,
          139,
          140,
          141,
          142,
          143,
          144,
          145,
          146,
          147,
          148,
          149
         ],
         "xaxis": "x",
         "y": [
          -2.57782,
          0.50903,
          1.44172,
          -1.04628,
          -1.31978,
          1.06997,
          0.64427,
          0.54167,
          -0.56906,
          2.09858,
          0.97175,
          -0.57695,
          -1.02753,
          -0.34217,
          -1.6184,
          1.81098,
          -0.71555,
          1.02159,
          0.22449,
          1.48629,
          -0.05694,
          0.00877,
          1.11023,
          0.05058,
          -1.15299,
          -1.36485,
          0.78075,
          -0.84686,
          0.65467,
          0.02243,
          0.34403,
          -1.49842,
          -0.45792,
          0.98889,
          -0.36619,
          0.5866,
          -1.34317,
          0.33311,
          -2.9755,
          -0.43608,
          -0.77556,
          -1.04194,
          0.87848,
          1.15031,
          1.21167,
          -1.30717,
          0.33724,
          -2.66221,
          -0.3001,
          0.2368,
          -0.65651,
          1.10539,
          -0.57777,
          -0.18434,
          -0.51897,
          -1.31889,
          -0.23492,
          0.29024,
          -0.40078,
          0.16829,
          -0.64766,
          0.95032,
          -0.94724,
          2.49056,
          0.50593,
          -0.66935,
          -1.5096,
          -0.44605,
          -0.91766,
          -1.7291,
          0.91561,
          0.38097,
          -0.40268,
          -0.99199,
          -1.91135,
          0.00128,
          0.70145,
          1.26465,
          0.77552,
          1.23544,
          1.10912,
          1.79309,
          -0.07908,
          1.82558,
          2.21091,
          -0.94089,
          -0.82089,
          2.24567,
          -1.73728,
          -0.483,
          -0.03012,
          0.70691,
          1.76276,
          -1.91422,
          -1.15678,
          -1.22048,
          -1.95484,
          -0.93252,
          -0.22584,
          -0.74323,
          1.13569,
          -1.7361,
          -0.54955,
          -0.93694,
          0.56129,
          -0.61251,
          0.25356,
          0.74542,
          -1.43869,
          0.85538,
          0.7556,
          2.16351,
          -0.46006,
          -0.68867,
          -1.25144,
          0.65231,
          -1.7778,
          -0.77335,
          -1.21253,
          1.36037,
          -0.29815,
          1.30858,
          0.12731,
          -1.07394,
          -0.93841,
          -1.11285,
          -0.52704,
          -1.21932,
          -0.02424,
          1.99991,
          0.03216,
          -0.04837,
          0.21429,
          -0.21184,
          -0.7335,
          -1.29633,
          -0.7217,
          -0.57104,
          -0.23682,
          -0.72706,
          1.13628,
          -0.13614,
          -0.15105,
          -1.06749,
          -0.6563,
          -0.76707,
          1.39436,
          0.32987,
          -0.07188,
          0.19608
         ],
         "yaxis": "y"
        },
        {
         "hovertemplate": "variable=val3<br>index=%{x}<br>value=%{y}<extra></extra>",
         "legendgroup": "val3",
         "line": {
          "color": "#00cc96",
          "dash": "solid"
         },
         "marker": {
          "symbol": "circle"
         },
         "mode": "lines",
         "name": "val3",
         "orientation": "v",
         "showlegend": true,
         "type": "scatter",
         "x": [
          0,
          1,
          2,
          3,
          4,
          5,
          6,
          7,
          8,
          9,
          10,
          11,
          12,
          13,
          14,
          15,
          16,
          17,
          18,
          19,
          20,
          21,
          22,
          23,
          24,
          25,
          26,
          27,
          28,
          29,
          30,
          31,
          32,
          33,
          34,
          35,
          36,
          37,
          38,
          39,
          40,
          41,
          42,
          43,
          44,
          45,
          46,
          47,
          48,
          49,
          50,
          51,
          52,
          53,
          54,
          55,
          56,
          57,
          58,
          59,
          60,
          61,
          62,
          63,
          64,
          65,
          66,
          67,
          68,
          69,
          70,
          71,
          72,
          73,
          74,
          75,
          76,
          77,
          78,
          79,
          80,
          81,
          82,
          83,
          84,
          85,
          86,
          87,
          88,
          89,
          90,
          91,
          92,
          93,
          94,
          95,
          96,
          97,
          98,
          99,
          100,
          101,
          102,
          103,
          104,
          105,
          106,
          107,
          108,
          109,
          110,
          111,
          112,
          113,
          114,
          115,
          116,
          117,
          118,
          119,
          120,
          121,
          122,
          123,
          124,
          125,
          126,
          127,
          128,
          129,
          130,
          131,
          132,
          133,
          134,
          135,
          136,
          137,
          138,
          139,
          140,
          141,
          142,
          143,
          144,
          145,
          146,
          147,
          148,
          149
         ],
         "xaxis": "x",
         "y": [
          1.19274,
          1.28163,
          0.07593,
          0.45085,
          0.66161,
          -0.17284,
          -1.35958,
          -3.61609,
          -2.67423,
          -2.37137,
          -1.52371,
          -2.69469,
          -2.43799,
          -1.4877,
          -1.46591,
          -1.42207,
          1.2375,
          0.88977,
          0.98464,
          1.1224,
          -0.30421,
          -1.58376,
          -0.7176,
          -0.71476,
          -2.99136,
          -1.83247,
          -3.42012,
          -0.41826,
          -0.13414,
          -1.50486,
          -1.04389,
          -0.55679,
          -1.882,
          -0.698,
          -0.71746,
          -1.63006,
          -2.14565,
          -1.26525,
          -1.206,
          -0.75617,
          0.65258,
          -0.75347,
          -0.48061,
          -2.37436,
          -2.0964,
          -2.14568,
          -0.84817,
          0.05059,
          0.98118,
          3.10765,
          2.12106,
          2.83241,
          0.59674,
          2.10489,
          3.89062,
          4.66352,
          5.0189,
          2.7288,
          1.57831,
          2.34559,
          2.84563,
          2.68,
          1.98965,
          0.94008,
          1.6685,
          1.18529,
          2.03942,
          2.17435,
          1.69804,
          1.96298,
          -0.17054,
          -1.02018,
          -0.96104,
          0.23544,
          0.97922,
          1.3197,
          0.20257,
          -0.04127,
          0.23231,
          1.87298,
          1.24808,
          -0.38758,
          -0.04564,
          0.57382,
          0.36716,
          1.3702,
          0.44888,
          1.19877,
          1.97235,
          1.11257,
          1.06822,
          1.17175,
          -1.12856,
          -0.02266,
          -0.11483,
          0.54284,
          0.48763,
          -0.21254,
          -1.44322,
          -1.18768,
          -0.23263,
          1.62277,
          2.1565,
          -0.16598,
          0.43016,
          1.3981,
          1.27834,
          1.25937,
          0.16595,
          0.04494,
          -0.13468,
          0.65959,
          1.5406,
          3.06816,
          1.97024,
          1.83186,
          3.16182,
          1.48902,
          1.16969,
          1.78317,
          1.54364,
          -0.04184,
          -0.36866,
          -0.79138,
          -0.77733,
          -1.32411,
          -1.16017,
          -2.31807,
          -2.4704,
          -1.01944,
          -0.70885,
          -0.59991,
          -1.81614,
          -0.17963,
          -0.45577,
          -1.31712,
          -1.60159,
          -2.91993,
          -2.62525,
          -3.37688,
          -5.64866,
          -3.97515,
          -3.89244,
          -3.17785,
          -3.88475,
          -4.19421,
          -1.94922,
          -2.76595,
          -3.84604,
          -1.79202
         ],
         "yaxis": "y"
        }
       ],
       "layout": {
        "legend": {
         "title": {
          "text": "variable"
         },
         "tracegroupgap": 0
        },
        "margin": {
         "t": 60
        },
        "template": {
         "data": {
          "bar": [
           {
            "error_x": {
             "color": "#2a3f5f"
            },
            "error_y": {
             "color": "#2a3f5f"
            },
            "marker": {
             "line": {
              "color": "#E5ECF6",
              "width": 0.5
             },
             "pattern": {
              "fillmode": "overlay",
              "size": 10,
              "solidity": 0.2
             }
            },
            "type": "bar"
           }
          ],
          "barpolar": [
           {
            "marker": {
             "line": {
              "color": "#E5ECF6",
              "width": 0.5
             },
             "pattern": {
              "fillmode": "overlay",
              "size": 10,
              "solidity": 0.2
             }
            },
            "type": "barpolar"
           }
          ],
          "carpet": [
           {
            "aaxis": {
             "endlinecolor": "#2a3f5f",
             "gridcolor": "white",
             "linecolor": "white",
             "minorgridcolor": "white",
             "startlinecolor": "#2a3f5f"
            },
            "baxis": {
             "endlinecolor": "#2a3f5f",
             "gridcolor": "white",
             "linecolor": "white",
             "minorgridcolor": "white",
             "startlinecolor": "#2a3f5f"
            },
            "type": "carpet"
           }
          ],
          "choropleth": [
           {
            "colorbar": {
             "outlinewidth": 0,
             "ticks": ""
            },
            "type": "choropleth"
           }
          ],
          "contour": [
           {
            "colorbar": {
             "outlinewidth": 0,
             "ticks": ""
            },
            "colorscale": [
             [
              0,
              "#0d0887"
             ],
             [
              0.1111111111111111,
              "#46039f"
             ],
             [
              0.2222222222222222,
              "#7201a8"
             ],
             [
              0.3333333333333333,
              "#9c179e"
             ],
             [
              0.4444444444444444,
              "#bd3786"
             ],
             [
              0.5555555555555556,
              "#d8576b"
             ],
             [
              0.6666666666666666,
              "#ed7953"
             ],
             [
              0.7777777777777778,
              "#fb9f3a"
             ],
             [
              0.8888888888888888,
              "#fdca26"
             ],
             [
              1,
              "#f0f921"
             ]
            ],
            "type": "contour"
           }
          ],
          "contourcarpet": [
           {
            "colorbar": {
             "outlinewidth": 0,
             "ticks": ""
            },
            "type": "contourcarpet"
           }
          ],
          "heatmap": [
           {
            "colorbar": {
             "outlinewidth": 0,
             "ticks": ""
            },
            "colorscale": [
             [
              0,
              "#0d0887"
             ],
             [
              0.1111111111111111,
              "#46039f"
             ],
             [
              0.2222222222222222,
              "#7201a8"
             ],
             [
              0.3333333333333333,
              "#9c179e"
             ],
             [
              0.4444444444444444,
              "#bd3786"
             ],
             [
              0.5555555555555556,
              "#d8576b"
             ],
             [
              0.6666666666666666,
              "#ed7953"
             ],
             [
              0.7777777777777778,
              "#fb9f3a"
             ],
             [
              0.8888888888888888,
              "#fdca26"
             ],
             [
              1,
              "#f0f921"
             ]
            ],
            "type": "heatmap"
           }
          ],
          "heatmapgl": [
           {
            "colorbar": {
             "outlinewidth": 0,
             "ticks": ""
            },
            "colorscale": [
             [
              0,
              "#0d0887"
             ],
             [
              0.1111111111111111,
              "#46039f"
             ],
             [
              0.2222222222222222,
              "#7201a8"
             ],
             [
              0.3333333333333333,
              "#9c179e"
             ],
             [
              0.4444444444444444,
              "#bd3786"
             ],
             [
              0.5555555555555556,
              "#d8576b"
             ],
             [
              0.6666666666666666,
              "#ed7953"
             ],
             [
              0.7777777777777778,
              "#fb9f3a"
             ],
             [
              0.8888888888888888,
              "#fdca26"
             ],
             [
              1,
              "#f0f921"
             ]
            ],
            "type": "heatmapgl"
           }
          ],
          "histogram": [
           {
            "marker": {
             "pattern": {
              "fillmode": "overlay",
              "size": 10,
              "solidity": 0.2
             }
            },
            "type": "histogram"
           }
          ],
          "histogram2d": [
           {
            "colorbar": {
             "outlinewidth": 0,
             "ticks": ""
            },
            "colorscale": [
             [
              0,
              "#0d0887"
             ],
             [
              0.1111111111111111,
              "#46039f"
             ],
             [
              0.2222222222222222,
              "#7201a8"
             ],
             [
              0.3333333333333333,
              "#9c179e"
             ],
             [
              0.4444444444444444,
              "#bd3786"
             ],
             [
              0.5555555555555556,
              "#d8576b"
             ],
             [
              0.6666666666666666,
              "#ed7953"
             ],
             [
              0.7777777777777778,
              "#fb9f3a"
             ],
             [
              0.8888888888888888,
              "#fdca26"
             ],
             [
              1,
              "#f0f921"
             ]
            ],
            "type": "histogram2d"
           }
          ],
          "histogram2dcontour": [
           {
            "colorbar": {
             "outlinewidth": 0,
             "ticks": ""
            },
            "colorscale": [
             [
              0,
              "#0d0887"
             ],
             [
              0.1111111111111111,
              "#46039f"
             ],
             [
              0.2222222222222222,
              "#7201a8"
             ],
             [
              0.3333333333333333,
              "#9c179e"
             ],
             [
              0.4444444444444444,
              "#bd3786"
             ],
             [
              0.5555555555555556,
              "#d8576b"
             ],
             [
              0.6666666666666666,
              "#ed7953"
             ],
             [
              0.7777777777777778,
              "#fb9f3a"
             ],
             [
              0.8888888888888888,
              "#fdca26"
             ],
             [
              1,
              "#f0f921"
             ]
            ],
            "type": "histogram2dcontour"
           }
          ],
          "mesh3d": [
           {
            "colorbar": {
             "outlinewidth": 0,
             "ticks": ""
            },
            "type": "mesh3d"
           }
          ],
          "parcoords": [
           {
            "line": {
             "colorbar": {
              "outlinewidth": 0,
              "ticks": ""
             }
            },
            "type": "parcoords"
           }
          ],
          "pie": [
           {
            "automargin": true,
            "type": "pie"
           }
          ],
          "scatter": [
           {
            "fillpattern": {
             "fillmode": "overlay",
             "size": 10,
             "solidity": 0.2
            },
            "type": "scatter"
           }
          ],
          "scatter3d": [
           {
            "line": {
             "colorbar": {
              "outlinewidth": 0,
              "ticks": ""
             }
            },
            "marker": {
             "colorbar": {
              "outlinewidth": 0,
              "ticks": ""
             }
            },
            "type": "scatter3d"
           }
          ],
          "scattercarpet": [
           {
            "marker": {
             "colorbar": {
              "outlinewidth": 0,
              "ticks": ""
             }
            },
            "type": "scattercarpet"
           }
          ],
          "scattergeo": [
           {
            "marker": {
             "colorbar": {
              "outlinewidth": 0,
              "ticks": ""
             }
            },
            "type": "scattergeo"
           }
          ],
          "scattergl": [
           {
            "marker": {
             "colorbar": {
              "outlinewidth": 0,
              "ticks": ""
             }
            },
            "type": "scattergl"
           }
          ],
          "scattermapbox": [
           {
            "marker": {
             "colorbar": {
              "outlinewidth": 0,
              "ticks": ""
             }
            },
            "type": "scattermapbox"
           }
          ],
          "scatterpolar": [
           {
            "marker": {
             "colorbar": {
              "outlinewidth": 0,
              "ticks": ""
             }
            },
            "type": "scatterpolar"
           }
          ],
          "scatterpolargl": [
           {
            "marker": {
             "colorbar": {
              "outlinewidth": 0,
              "ticks": ""
             }
            },
            "type": "scatterpolargl"
           }
          ],
          "scatterternary": [
           {
            "marker": {
             "colorbar": {
              "outlinewidth": 0,
              "ticks": ""
             }
            },
            "type": "scatterternary"
           }
          ],
          "surface": [
           {
            "colorbar": {
             "outlinewidth": 0,
             "ticks": ""
            },
            "colorscale": [
             [
              0,
              "#0d0887"
             ],
             [
              0.1111111111111111,
              "#46039f"
             ],
             [
              0.2222222222222222,
              "#7201a8"
             ],
             [
              0.3333333333333333,
              "#9c179e"
             ],
             [
              0.4444444444444444,
              "#bd3786"
             ],
             [
              0.5555555555555556,
              "#d8576b"
             ],
             [
              0.6666666666666666,
              "#ed7953"
             ],
             [
              0.7777777777777778,
              "#fb9f3a"
             ],
             [
              0.8888888888888888,
              "#fdca26"
             ],
             [
              1,
              "#f0f921"
             ]
            ],
            "type": "surface"
           }
          ],
          "table": [
           {
            "cells": {
             "fill": {
              "color": "#EBF0F8"
             },
             "line": {
              "color": "white"
             }
            },
            "header": {
             "fill": {
              "color": "#C8D4E3"
             },
             "line": {
              "color": "white"
             }
            },
            "type": "table"
           }
          ]
         },
         "layout": {
          "annotationdefaults": {
           "arrowcolor": "#2a3f5f",
           "arrowhead": 0,
           "arrowwidth": 1
          },
          "autotypenumbers": "strict",
          "coloraxis": {
           "colorbar": {
            "outlinewidth": 0,
            "ticks": ""
           }
          },
          "colorscale": {
           "diverging": [
            [
             0,
             "#8e0152"
            ],
            [
             0.1,
             "#c51b7d"
            ],
            [
             0.2,
             "#de77ae"
            ],
            [
             0.3,
             "#f1b6da"
            ],
            [
             0.4,
             "#fde0ef"
            ],
            [
             0.5,
             "#f7f7f7"
            ],
            [
             0.6,
             "#e6f5d0"
            ],
            [
             0.7,
             "#b8e186"
            ],
            [
             0.8,
             "#7fbc41"
            ],
            [
             0.9,
             "#4d9221"
            ],
            [
             1,
             "#276419"
            ]
           ],
           "sequential": [
            [
             0,
             "#0d0887"
            ],
            [
             0.1111111111111111,
             "#46039f"
            ],
            [
             0.2222222222222222,
             "#7201a8"
            ],
            [
             0.3333333333333333,
             "#9c179e"
            ],
            [
             0.4444444444444444,
             "#bd3786"
            ],
            [
             0.5555555555555556,
             "#d8576b"
            ],
            [
             0.6666666666666666,
             "#ed7953"
            ],
            [
             0.7777777777777778,
             "#fb9f3a"
            ],
            [
             0.8888888888888888,
             "#fdca26"
            ],
            [
             1,
             "#f0f921"
            ]
           ],
           "sequentialminus": [
            [
             0,
             "#0d0887"
            ],
            [
             0.1111111111111111,
             "#46039f"
            ],
            [
             0.2222222222222222,
             "#7201a8"
            ],
            [
             0.3333333333333333,
             "#9c179e"
            ],
            [
             0.4444444444444444,
             "#bd3786"
            ],
            [
             0.5555555555555556,
             "#d8576b"
            ],
            [
             0.6666666666666666,
             "#ed7953"
            ],
            [
             0.7777777777777778,
             "#fb9f3a"
            ],
            [
             0.8888888888888888,
             "#fdca26"
            ],
            [
             1,
             "#f0f921"
            ]
           ]
          },
          "colorway": [
           "#636efa",
           "#EF553B",
           "#00cc96",
           "#ab63fa",
           "#FFA15A",
           "#19d3f3",
           "#FF6692",
           "#B6E880",
           "#FF97FF",
           "#FECB52"
          ],
          "font": {
           "color": "#2a3f5f"
          },
          "geo": {
           "bgcolor": "white",
           "lakecolor": "white",
           "landcolor": "#E5ECF6",
           "showlakes": true,
           "showland": true,
           "subunitcolor": "white"
          },
          "hoverlabel": {
           "align": "left"
          },
          "hovermode": "closest",
          "mapbox": {
           "style": "light"
          },
          "paper_bgcolor": "white",
          "plot_bgcolor": "#E5ECF6",
          "polar": {
           "angularaxis": {
            "gridcolor": "white",
            "linecolor": "white",
            "ticks": ""
           },
           "bgcolor": "#E5ECF6",
           "radialaxis": {
            "gridcolor": "white",
            "linecolor": "white",
            "ticks": ""
           }
          },
          "scene": {
           "xaxis": {
            "backgroundcolor": "#E5ECF6",
            "gridcolor": "white",
            "gridwidth": 2,
            "linecolor": "white",
            "showbackground": true,
            "ticks": "",
            "zerolinecolor": "white"
           },
           "yaxis": {
            "backgroundcolor": "#E5ECF6",
            "gridcolor": "white",
            "gridwidth": 2,
            "linecolor": "white",
            "showbackground": true,
            "ticks": "",
            "zerolinecolor": "white"
           },
           "zaxis": {
            "backgroundcolor": "#E5ECF6",
            "gridcolor": "white",
            "gridwidth": 2,
            "linecolor": "white",
            "showbackground": true,
            "ticks": "",
            "zerolinecolor": "white"
           }
          },
          "shapedefaults": {
           "line": {
            "color": "#2a3f5f"
           }
          },
          "ternary": {
           "aaxis": {
            "gridcolor": "white",
            "linecolor": "white",
            "ticks": ""
           },
           "baxis": {
            "gridcolor": "white",
            "linecolor": "white",
            "ticks": ""
           },
           "bgcolor": "#E5ECF6",
           "caxis": {
            "gridcolor": "white",
            "linecolor": "white",
            "ticks": ""
           }
          },
          "title": {
           "x": 0.05
          },
          "xaxis": {
           "automargin": true,
           "gridcolor": "white",
           "linecolor": "white",
           "ticks": "",
           "title": {
            "standoff": 15
           },
           "zerolinecolor": "white",
           "zerolinewidth": 2
          },
          "yaxis": {
           "automargin": true,
           "gridcolor": "white",
           "linecolor": "white",
           "ticks": "",
           "title": {
            "standoff": 15
           },
           "zerolinecolor": "white",
           "zerolinewidth": 2
          }
         }
        },
        "xaxis": {
         "anchor": "y",
         "domain": [
          0,
          1
         ],
         "title": {
          "text": "index"
         }
        },
        "yaxis": {
         "anchor": "x",
         "domain": [
          0,
          1
         ],
         "title": {
          "text": "value"
         }
        }
       }
      }
     },
     "metadata": {},
     "output_type": "display_data"
    }
   ],
   "source": [
    "import plotly.express as px\n",
    "\n",
    "fig = px.line(df_1, facet_col_wrap=1)\n",
    "fig.update_yaxes(matches=None)\n",
    "fig.show()"
   ]
  },
  {
   "cell_type": "code",
   "execution_count": 60,
   "metadata": {},
   "outputs": [
    {
     "name": "stdout",
     "output_type": "stream",
     "text": [
      "ADF Test: val1 time series\n",
      "ADF Statistics: -3.480223\n",
      "p-value: 0.008510\n",
      "Critical values:\n",
      "\t1%: -3.476\n",
      "\t5%: -2.882\n",
      "\t10%: -2.577\n",
      "ADF Test: val2 time series\n",
      "ADF Statistics: -7.732974\n",
      "p-value: 0.000000\n",
      "Critical values:\n",
      "\t1%: -3.475\n",
      "\t5%: -2.881\n",
      "\t10%: -2.577\n",
      "ADF Test: val3 time series\n",
      "ADF Statistics: -3.615108\n",
      "p-value: 0.005479\n",
      "Critical values:\n",
      "\t1%: -3.475\n",
      "\t5%: -2.881\n",
      "\t10%: -2.577\n"
     ]
    }
   ],
   "source": [
    "from statsmodels.tsa.stattools import adfuller\n",
    "\n",
    "def adf_test(df_1):\n",
    "    result = adfuller(df_1.values)\n",
    "    print('ADF Statistics: %f' % result[0])\n",
    "    print('p-value: %f' % result[1])\n",
    "    print('Critical values:')\n",
    "    for key, value in result[4].items():\n",
    "        print('\\t%s: %.3f' % (key, value))\n",
    "\n",
    "print('ADF Test: val1 time series')\n",
    "adf_test(df_1['val1'])\n",
    "print('ADF Test: val2 time series')\n",
    "adf_test(df_1['val2'])\n",
    "print('ADF Test: val3 time series')\n",
    "adf_test(df_1['val3'])"
   ]
  },
  {
   "cell_type": "code",
   "execution_count": 61,
   "metadata": {},
   "outputs": [
    {
     "name": "stdout",
     "output_type": "stream",
     "text": [
      "KPSS Test: val1 time series\n",
      "KPSS Statistic: 0.3041960962134471\n",
      "p-value: 0.1\n",
      "num lags: 7\n",
      "Critial Values:\n",
      "   10% : 0.347\n",
      "   5% : 0.463\n",
      "   2.5% : 0.574\n",
      "   1% : 0.739\n",
      "KPSS Test: val2 time series\n",
      "KPSS Statistic: 0.06369267341825764\n",
      "p-value: 0.1\n",
      "num lags: 0\n",
      "Critial Values:\n",
      "   10% : 0.347\n",
      "   5% : 0.463\n",
      "   2.5% : 0.574\n",
      "   1% : 0.739\n",
      "KPSS Test: val3 time series\n",
      "KPSS Statistic: 0.2745875066033727\n",
      "p-value: 0.1\n",
      "num lags: 8\n",
      "Critial Values:\n",
      "   10% : 0.347\n",
      "   5% : 0.463\n",
      "   2.5% : 0.574\n",
      "   1% : 0.739\n"
     ]
    },
    {
     "name": "stderr",
     "output_type": "stream",
     "text": [
      "/Users/klaustan/opt/anaconda3/lib/python3.9/site-packages/statsmodels/tsa/stattools.py:2022: InterpolationWarning:\n",
      "\n",
      "The test statistic is outside of the range of p-values available in the\n",
      "look-up table. The actual p-value is greater than the p-value returned.\n",
      "\n",
      "\n",
      "/Users/klaustan/opt/anaconda3/lib/python3.9/site-packages/statsmodels/tsa/stattools.py:2022: InterpolationWarning:\n",
      "\n",
      "The test statistic is outside of the range of p-values available in the\n",
      "look-up table. The actual p-value is greater than the p-value returned.\n",
      "\n",
      "\n",
      "/Users/klaustan/opt/anaconda3/lib/python3.9/site-packages/statsmodels/tsa/stattools.py:2022: InterpolationWarning:\n",
      "\n",
      "The test statistic is outside of the range of p-values available in the\n",
      "look-up table. The actual p-value is greater than the p-value returned.\n",
      "\n",
      "\n"
     ]
    }
   ],
   "source": [
    "from statsmodels.tsa.stattools import kpss\n",
    "\n",
    "def kpss_test(df_1):    \n",
    "    statistic, p_value, n_lags, critical_values = kpss(df_1.values)\n",
    "    \n",
    "    print(f'KPSS Statistic: {statistic}')\n",
    "    print(f'p-value: {p_value}')\n",
    "    print(f'num lags: {n_lags}')\n",
    "    print('Critial Values:')\n",
    "    for key, value in critical_values.items():\n",
    "        print(f'   {key} : {value}')\n",
    "\n",
    "print('KPSS Test: val1 time series')\n",
    "kpss_test(df_1['val1'])\n",
    "print('KPSS Test: val2 time series')\n",
    "kpss_test(df_1['val2'])\n",
    "print('KPSS Test: val3 time series')\n",
    "kpss_test(df_1['val3'])"
   ]
  },
  {
   "cell_type": "code",
   "execution_count": 62,
   "metadata": {},
   "outputs": [
    {
     "data": {
      "application/vnd.plotly.v1+json": {
       "config": {
        "plotlyServerURL": "https://plot.ly"
       },
       "data": [
        {
         "hovertemplate": "variable=val1<br>index=%{x}<br>value=%{y}<extra></extra>",
         "legendgroup": "val1",
         "line": {
          "color": "#636efa",
          "dash": "solid"
         },
         "marker": {
          "symbol": "circle"
         },
         "mode": "lines",
         "name": "val1",
         "orientation": "v",
         "showlegend": true,
         "type": "scatter",
         "x": [
          1,
          2,
          3,
          4,
          5,
          6,
          7,
          8,
          9,
          10,
          11,
          12,
          13,
          14,
          15,
          16,
          17,
          18,
          19,
          20,
          21,
          22,
          23,
          24,
          25,
          26,
          27,
          28,
          29,
          30,
          31,
          32,
          33,
          34,
          35,
          36,
          37,
          38,
          39,
          40,
          41,
          42,
          43,
          44,
          45,
          46,
          47,
          48,
          49,
          50,
          51,
          52,
          53,
          54,
          55,
          56,
          57,
          58,
          59,
          60,
          61,
          62,
          63,
          64,
          65,
          66,
          67,
          68,
          69,
          70,
          71,
          72,
          73,
          74,
          75,
          76,
          77,
          78,
          79,
          80,
          81,
          82,
          83,
          84,
          85,
          86,
          87,
          88,
          89,
          90,
          91,
          92,
          93,
          94,
          95,
          96,
          97,
          98,
          99,
          100,
          101,
          102,
          103,
          104,
          105,
          106,
          107,
          108,
          109,
          110,
          111,
          112,
          113,
          114,
          115,
          116,
          117,
          118,
          119,
          120,
          121,
          122,
          123,
          124,
          125,
          126,
          127,
          128,
          129,
          130,
          131,
          132,
          133,
          134,
          135,
          136,
          137,
          138,
          139,
          140,
          141,
          142,
          143,
          144,
          145,
          146,
          147,
          148,
          149
         ],
         "xaxis": "x",
         "y": [
          -0.6045999999999999,
          1.95047,
          -0.44666999999999996,
          -1.61894,
          0.16891999999999996,
          2.67997,
          -1.7942099999999999,
          -0.7820900000000002,
          -0.08456999999999981,
          1.26671,
          -0.47055,
          -1.18266,
          -0.03180000000000005,
          0.21999999999999997,
          0.81071,
          -0.34489000000000003,
          0.89154,
          0.20237,
          -0.78247,
          1.36822,
          -0.69001,
          0.61167,
          0.28354999999999997,
          -2.1776,
          1.4111,
          0.15235,
          -2.7099100000000003,
          2.20696,
          0.54462,
          -2.59907,
          0.8122700000000003,
          0.9640899999999999,
          -0.70245,
          -0.5693899999999998,
          0.49912,
          0.3879799999999999,
          -0.6221,
          0.56294,
          -0.25065000000000004,
          0.20594,
          -0.58833,
          1.87728,
          -0.023060000000000025,
          -0.10076999999999997,
          0.45543999999999996,
          0.84429,
          -0.29176999999999986,
          -1.5223,
          1.8519299999999999,
          0.9908599999999999,
          -0.8270899999999999,
          -0.26671999999999985,
          -1.4345800000000002,
          -1.48552,
          1.23786,
          0.8419599999999999,
          -0.7533799999999999,
          1.11435,
          -0.01489000000000007,
          -0.5084099999999999,
          1.04954,
          0.22805000000000009,
          -0.5572600000000001,
          0.5347999999999999,
          -0.5948799999999999,
          -0.12707000000000002,
          -0.63344,
          -1.4329100000000001,
          2.0060700000000002,
          0.22565999999999997,
          -0.24605999999999995,
          0.47045000000000003,
          -1.31931,
          0.19629000000000002,
          1.43688,
          -1.10413,
          0.93788,
          1.1109999999999998,
          -1.6406199999999997,
          1.3923799999999997,
          -0.9448299999999998,
          -2.26952,
          -0.28566999999999987,
          0.9774599999999999,
          0.23714999999999997,
          -0.43359000000000003,
          1.2616100000000001,
          0.2316499999999999,
          -1.65075,
          0.63545,
          -1.9328100000000001,
          1.84843,
          0.04188,
          0.31644,
          -1.39558,
          0.36029999999999995,
          -0.27801,
          1.28411,
          -1.26841,
          0.53726,
          0.8605200000000001,
          -0.99841,
          2.77855,
          -1.5134600000000002,
          1.1680000000000001,
          -1.6060400000000001,
          -0.13178,
          0.7322500000000001,
          -2.2614,
          1.77643,
          1.7610200000000003,
          -1.2393300000000003,
          0.9233500000000001,
          0.16975000000000007,
          -0.9499500000000001,
          0.22455000000000003,
          -1.5997400000000002,
          0.28353,
          0.3697,
          0.40786,
          -0.29013,
          -1.40531,
          -1.28077,
          -0.5480499999999999,
          -0.24631999999999987,
          -0.024270000000000014,
          0.7301599999999997,
          0.19396000000000013,
          1.01923,
          0.49316999999999994,
          1.79526,
          -1.83834,
          -0.85916,
          1.09235,
          -0.66306,
          -0.37615,
          -1.1577700000000002,
          0.6771200000000002,
          0.8231200000000001,
          -0.7279500000000001,
          -0.18592999999999993,
          -0.1703699999999999,
          -0.7964500000000001,
          1.32108,
          -1.97704,
          1.9061899999999998,
          2.24878,
          0.30372999999999994,
          -2.5110200000000003
         ],
         "yaxis": "y"
        },
        {
         "hovertemplate": "variable=val2<br>index=%{x}<br>value=%{y}<extra></extra>",
         "legendgroup": "val2",
         "line": {
          "color": "#EF553B",
          "dash": "solid"
         },
         "marker": {
          "symbol": "circle"
         },
         "mode": "lines",
         "name": "val2",
         "orientation": "v",
         "showlegend": true,
         "type": "scatter",
         "x": [
          1,
          2,
          3,
          4,
          5,
          6,
          7,
          8,
          9,
          10,
          11,
          12,
          13,
          14,
          15,
          16,
          17,
          18,
          19,
          20,
          21,
          22,
          23,
          24,
          25,
          26,
          27,
          28,
          29,
          30,
          31,
          32,
          33,
          34,
          35,
          36,
          37,
          38,
          39,
          40,
          41,
          42,
          43,
          44,
          45,
          46,
          47,
          48,
          49,
          50,
          51,
          52,
          53,
          54,
          55,
          56,
          57,
          58,
          59,
          60,
          61,
          62,
          63,
          64,
          65,
          66,
          67,
          68,
          69,
          70,
          71,
          72,
          73,
          74,
          75,
          76,
          77,
          78,
          79,
          80,
          81,
          82,
          83,
          84,
          85,
          86,
          87,
          88,
          89,
          90,
          91,
          92,
          93,
          94,
          95,
          96,
          97,
          98,
          99,
          100,
          101,
          102,
          103,
          104,
          105,
          106,
          107,
          108,
          109,
          110,
          111,
          112,
          113,
          114,
          115,
          116,
          117,
          118,
          119,
          120,
          121,
          122,
          123,
          124,
          125,
          126,
          127,
          128,
          129,
          130,
          131,
          132,
          133,
          134,
          135,
          136,
          137,
          138,
          139,
          140,
          141,
          142,
          143,
          144,
          145,
          146,
          147,
          148,
          149
         ],
         "xaxis": "x",
         "y": [
          3.08685,
          0.9326899999999999,
          -2.488,
          -0.27349999999999985,
          2.3897500000000003,
          -0.4257000000000001,
          -0.10260000000000002,
          -1.11073,
          2.66764,
          -1.12683,
          -1.5487,
          -0.4505800000000001,
          0.6853600000000001,
          -1.27623,
          3.42938,
          -2.52653,
          1.7371400000000001,
          -0.7971,
          1.2617999999999998,
          -1.5432299999999999,
          0.06570999999999999,
          1.10146,
          -1.05965,
          -1.20357,
          -0.21185999999999994,
          2.1456,
          -1.62761,
          1.5015299999999998,
          -0.63224,
          0.3216,
          -1.8424500000000001,
          1.0405000000000002,
          1.4468100000000002,
          -1.35508,
          0.95279,
          -1.92977,
          1.67628,
          -3.30861,
          2.53942,
          -0.33948,
          -0.26638000000000006,
          1.92042,
          0.2718299999999999,
          0.06136000000000008,
          -2.51884,
          1.64441,
          -2.99945,
          2.36211,
          0.5368999999999999,
          -0.89331,
          1.7619000000000002,
          -1.68316,
          0.39343,
          -0.33463000000000004,
          -0.7999199999999999,
          1.0839699999999999,
          0.52516,
          -0.69102,
          0.56907,
          -0.81595,
          1.5979800000000002,
          -1.89756,
          3.4377999999999997,
          -1.98463,
          -1.1752799999999999,
          -0.84025,
          1.06355,
          -0.47161000000000003,
          -0.81144,
          2.64471,
          -0.53464,
          -0.78365,
          -0.58931,
          -0.9193600000000001,
          1.91263,
          0.7001700000000001,
          0.5632,
          -0.48913000000000006,
          0.4599200000000001,
          -0.12632,
          0.68397,
          -1.8721700000000001,
          1.90466,
          0.3853300000000002,
          -3.1518,
          0.12,
          3.06656,
          -3.9829499999999998,
          1.25428,
          0.45288,
          0.7370300000000001,
          1.05585,
          -3.6769800000000004,
          0.7574400000000001,
          -0.06370000000000009,
          -0.7343599999999999,
          1.02232,
          0.70668,
          -0.5173899999999999,
          1.87892,
          -2.87179,
          1.18655,
          -0.38739,
          1.49823,
          -1.1738,
          0.86607,
          0.49185999999999996,
          -2.18411,
          2.29407,
          -0.09977999999999998,
          1.40791,
          -2.62357,
          -0.22860999999999998,
          -0.5627700000000001,
          1.90375,
          -2.43011,
          1.00445,
          -0.4391800000000001,
          2.5729,
          -1.6585200000000002,
          1.6067300000000002,
          -1.18127,
          -1.20125,
          0.13552999999999993,
          -0.17443999999999993,
          0.5858099999999999,
          -0.69228,
          1.19508,
          2.02415,
          -1.96775,
          -0.08053,
          0.26266,
          -0.42613,
          -0.52166,
          -0.5628299999999999,
          0.57463,
          0.15066000000000002,
          0.33421999999999996,
          -0.49024,
          1.86334,
          -1.2724199999999999,
          -0.014909999999999979,
          -0.91644,
          0.41119000000000006,
          -0.11077000000000004,
          2.16143,
          -1.0644900000000002,
          -0.40175,
          0.26796
         ],
         "yaxis": "y"
        },
        {
         "hovertemplate": "variable=val3<br>index=%{x}<br>value=%{y}<extra></extra>",
         "legendgroup": "val3",
         "line": {
          "color": "#00cc96",
          "dash": "solid"
         },
         "marker": {
          "symbol": "circle"
         },
         "mode": "lines",
         "name": "val3",
         "orientation": "v",
         "showlegend": true,
         "type": "scatter",
         "x": [
          1,
          2,
          3,
          4,
          5,
          6,
          7,
          8,
          9,
          10,
          11,
          12,
          13,
          14,
          15,
          16,
          17,
          18,
          19,
          20,
          21,
          22,
          23,
          24,
          25,
          26,
          27,
          28,
          29,
          30,
          31,
          32,
          33,
          34,
          35,
          36,
          37,
          38,
          39,
          40,
          41,
          42,
          43,
          44,
          45,
          46,
          47,
          48,
          49,
          50,
          51,
          52,
          53,
          54,
          55,
          56,
          57,
          58,
          59,
          60,
          61,
          62,
          63,
          64,
          65,
          66,
          67,
          68,
          69,
          70,
          71,
          72,
          73,
          74,
          75,
          76,
          77,
          78,
          79,
          80,
          81,
          82,
          83,
          84,
          85,
          86,
          87,
          88,
          89,
          90,
          91,
          92,
          93,
          94,
          95,
          96,
          97,
          98,
          99,
          100,
          101,
          102,
          103,
          104,
          105,
          106,
          107,
          108,
          109,
          110,
          111,
          112,
          113,
          114,
          115,
          116,
          117,
          118,
          119,
          120,
          121,
          122,
          123,
          124,
          125,
          126,
          127,
          128,
          129,
          130,
          131,
          132,
          133,
          134,
          135,
          136,
          137,
          138,
          139,
          140,
          141,
          142,
          143,
          144,
          145,
          146,
          147,
          148,
          149
         ],
         "xaxis": "x",
         "y": [
          0.08889000000000014,
          -1.2057,
          0.37492,
          0.21076000000000006,
          -0.83445,
          -1.18674,
          -2.2565099999999996,
          0.9418599999999997,
          0.3028599999999999,
          0.8476600000000003,
          -1.1709800000000001,
          0.25669999999999993,
          0.9502900000000001,
          0.021789999999999976,
          0.0438400000000001,
          2.65957,
          -0.3477300000000001,
          0.09487000000000001,
          0.1377600000000001,
          -1.4266100000000002,
          -1.27955,
          0.86616,
          0.0028400000000000647,
          -2.2765999999999997,
          1.1588899999999998,
          -1.5876499999999998,
          3.0018599999999998,
          0.28412000000000004,
          -1.3707200000000002,
          0.4609700000000001,
          0.4871,
          -1.3252099999999998,
          1.184,
          -0.019460000000000033,
          -0.9126000000000001,
          -0.5155899999999998,
          0.8803999999999998,
          0.059250000000000025,
          0.44982999999999995,
          1.40875,
          -1.40605,
          0.27286,
          -1.8937499999999998,
          0.27795999999999976,
          -0.04927999999999999,
          1.29751,
          0.89876,
          0.93059,
          2.12647,
          -0.9865900000000001,
          0.7113499999999999,
          -2.23567,
          1.50815,
          1.78573,
          0.7728999999999999,
          0.35538000000000025,
          -2.2901000000000002,
          -1.15049,
          0.76728,
          0.5000399999999998,
          -0.16562999999999972,
          -0.6903500000000002,
          -1.04957,
          0.7284200000000001,
          -0.48321000000000014,
          0.8541299999999998,
          0.13493000000000022,
          -0.47631,
          0.26493999999999995,
          -2.13352,
          -0.8496400000000001,
          0.05914000000000008,
          1.19648,
          0.74378,
          0.3404800000000001,
          -1.1171300000000002,
          -0.24384,
          0.27358,
          1.64067,
          -0.6249,
          -1.6356600000000001,
          0.34193999999999997,
          0.61946,
          -0.20666,
          1.0030400000000002,
          -0.9213200000000001,
          0.74989,
          0.7735800000000002,
          -0.85978,
          -0.04435000000000011,
          0.10353000000000012,
          -2.30031,
          1.1059,
          -0.09217,
          0.65767,
          -0.05520999999999998,
          -0.70017,
          -1.23068,
          0.2555399999999999,
          0.9550500000000001,
          1.8554,
          0.5337299999999998,
          -2.3224799999999997,
          0.59614,
          0.9679399999999999,
          -0.11975999999999987,
          -0.01896999999999993,
          -1.09342,
          -0.12100999999999998,
          -0.17962,
          0.79427,
          0.88101,
          1.5275600000000003,
          -1.0979200000000002,
          -0.13837999999999995,
          1.32996,
          -1.6728,
          -0.3193300000000001,
          0.61348,
          -0.23953000000000002,
          -1.58548,
          -0.32682,
          -0.42272,
          0.014050000000000007,
          -0.5467799999999999,
          0.16393999999999997,
          -1.1579000000000002,
          -0.15233000000000008,
          1.4509600000000002,
          0.3105899999999999,
          0.10893999999999993,
          -1.21623,
          1.6365100000000001,
          -0.27614,
          -0.8613500000000001,
          -0.28447,
          -1.3183399999999998,
          0.29468000000000005,
          -0.75163,
          -2.2717799999999997,
          1.6735099999999994,
          0.08271000000000006,
          0.7145900000000003,
          -0.7069000000000001,
          -0.30946000000000007,
          2.24499,
          -0.8167300000000002,
          -1.0800899999999998,
          2.05402
         ],
         "yaxis": "y"
        }
       ],
       "layout": {
        "legend": {
         "title": {
          "text": "variable"
         },
         "tracegroupgap": 0
        },
        "margin": {
         "t": 60
        },
        "template": {
         "data": {
          "bar": [
           {
            "error_x": {
             "color": "#2a3f5f"
            },
            "error_y": {
             "color": "#2a3f5f"
            },
            "marker": {
             "line": {
              "color": "#E5ECF6",
              "width": 0.5
             },
             "pattern": {
              "fillmode": "overlay",
              "size": 10,
              "solidity": 0.2
             }
            },
            "type": "bar"
           }
          ],
          "barpolar": [
           {
            "marker": {
             "line": {
              "color": "#E5ECF6",
              "width": 0.5
             },
             "pattern": {
              "fillmode": "overlay",
              "size": 10,
              "solidity": 0.2
             }
            },
            "type": "barpolar"
           }
          ],
          "carpet": [
           {
            "aaxis": {
             "endlinecolor": "#2a3f5f",
             "gridcolor": "white",
             "linecolor": "white",
             "minorgridcolor": "white",
             "startlinecolor": "#2a3f5f"
            },
            "baxis": {
             "endlinecolor": "#2a3f5f",
             "gridcolor": "white",
             "linecolor": "white",
             "minorgridcolor": "white",
             "startlinecolor": "#2a3f5f"
            },
            "type": "carpet"
           }
          ],
          "choropleth": [
           {
            "colorbar": {
             "outlinewidth": 0,
             "ticks": ""
            },
            "type": "choropleth"
           }
          ],
          "contour": [
           {
            "colorbar": {
             "outlinewidth": 0,
             "ticks": ""
            },
            "colorscale": [
             [
              0,
              "#0d0887"
             ],
             [
              0.1111111111111111,
              "#46039f"
             ],
             [
              0.2222222222222222,
              "#7201a8"
             ],
             [
              0.3333333333333333,
              "#9c179e"
             ],
             [
              0.4444444444444444,
              "#bd3786"
             ],
             [
              0.5555555555555556,
              "#d8576b"
             ],
             [
              0.6666666666666666,
              "#ed7953"
             ],
             [
              0.7777777777777778,
              "#fb9f3a"
             ],
             [
              0.8888888888888888,
              "#fdca26"
             ],
             [
              1,
              "#f0f921"
             ]
            ],
            "type": "contour"
           }
          ],
          "contourcarpet": [
           {
            "colorbar": {
             "outlinewidth": 0,
             "ticks": ""
            },
            "type": "contourcarpet"
           }
          ],
          "heatmap": [
           {
            "colorbar": {
             "outlinewidth": 0,
             "ticks": ""
            },
            "colorscale": [
             [
              0,
              "#0d0887"
             ],
             [
              0.1111111111111111,
              "#46039f"
             ],
             [
              0.2222222222222222,
              "#7201a8"
             ],
             [
              0.3333333333333333,
              "#9c179e"
             ],
             [
              0.4444444444444444,
              "#bd3786"
             ],
             [
              0.5555555555555556,
              "#d8576b"
             ],
             [
              0.6666666666666666,
              "#ed7953"
             ],
             [
              0.7777777777777778,
              "#fb9f3a"
             ],
             [
              0.8888888888888888,
              "#fdca26"
             ],
             [
              1,
              "#f0f921"
             ]
            ],
            "type": "heatmap"
           }
          ],
          "heatmapgl": [
           {
            "colorbar": {
             "outlinewidth": 0,
             "ticks": ""
            },
            "colorscale": [
             [
              0,
              "#0d0887"
             ],
             [
              0.1111111111111111,
              "#46039f"
             ],
             [
              0.2222222222222222,
              "#7201a8"
             ],
             [
              0.3333333333333333,
              "#9c179e"
             ],
             [
              0.4444444444444444,
              "#bd3786"
             ],
             [
              0.5555555555555556,
              "#d8576b"
             ],
             [
              0.6666666666666666,
              "#ed7953"
             ],
             [
              0.7777777777777778,
              "#fb9f3a"
             ],
             [
              0.8888888888888888,
              "#fdca26"
             ],
             [
              1,
              "#f0f921"
             ]
            ],
            "type": "heatmapgl"
           }
          ],
          "histogram": [
           {
            "marker": {
             "pattern": {
              "fillmode": "overlay",
              "size": 10,
              "solidity": 0.2
             }
            },
            "type": "histogram"
           }
          ],
          "histogram2d": [
           {
            "colorbar": {
             "outlinewidth": 0,
             "ticks": ""
            },
            "colorscale": [
             [
              0,
              "#0d0887"
             ],
             [
              0.1111111111111111,
              "#46039f"
             ],
             [
              0.2222222222222222,
              "#7201a8"
             ],
             [
              0.3333333333333333,
              "#9c179e"
             ],
             [
              0.4444444444444444,
              "#bd3786"
             ],
             [
              0.5555555555555556,
              "#d8576b"
             ],
             [
              0.6666666666666666,
              "#ed7953"
             ],
             [
              0.7777777777777778,
              "#fb9f3a"
             ],
             [
              0.8888888888888888,
              "#fdca26"
             ],
             [
              1,
              "#f0f921"
             ]
            ],
            "type": "histogram2d"
           }
          ],
          "histogram2dcontour": [
           {
            "colorbar": {
             "outlinewidth": 0,
             "ticks": ""
            },
            "colorscale": [
             [
              0,
              "#0d0887"
             ],
             [
              0.1111111111111111,
              "#46039f"
             ],
             [
              0.2222222222222222,
              "#7201a8"
             ],
             [
              0.3333333333333333,
              "#9c179e"
             ],
             [
              0.4444444444444444,
              "#bd3786"
             ],
             [
              0.5555555555555556,
              "#d8576b"
             ],
             [
              0.6666666666666666,
              "#ed7953"
             ],
             [
              0.7777777777777778,
              "#fb9f3a"
             ],
             [
              0.8888888888888888,
              "#fdca26"
             ],
             [
              1,
              "#f0f921"
             ]
            ],
            "type": "histogram2dcontour"
           }
          ],
          "mesh3d": [
           {
            "colorbar": {
             "outlinewidth": 0,
             "ticks": ""
            },
            "type": "mesh3d"
           }
          ],
          "parcoords": [
           {
            "line": {
             "colorbar": {
              "outlinewidth": 0,
              "ticks": ""
             }
            },
            "type": "parcoords"
           }
          ],
          "pie": [
           {
            "automargin": true,
            "type": "pie"
           }
          ],
          "scatter": [
           {
            "fillpattern": {
             "fillmode": "overlay",
             "size": 10,
             "solidity": 0.2
            },
            "type": "scatter"
           }
          ],
          "scatter3d": [
           {
            "line": {
             "colorbar": {
              "outlinewidth": 0,
              "ticks": ""
             }
            },
            "marker": {
             "colorbar": {
              "outlinewidth": 0,
              "ticks": ""
             }
            },
            "type": "scatter3d"
           }
          ],
          "scattercarpet": [
           {
            "marker": {
             "colorbar": {
              "outlinewidth": 0,
              "ticks": ""
             }
            },
            "type": "scattercarpet"
           }
          ],
          "scattergeo": [
           {
            "marker": {
             "colorbar": {
              "outlinewidth": 0,
              "ticks": ""
             }
            },
            "type": "scattergeo"
           }
          ],
          "scattergl": [
           {
            "marker": {
             "colorbar": {
              "outlinewidth": 0,
              "ticks": ""
             }
            },
            "type": "scattergl"
           }
          ],
          "scattermapbox": [
           {
            "marker": {
             "colorbar": {
              "outlinewidth": 0,
              "ticks": ""
             }
            },
            "type": "scattermapbox"
           }
          ],
          "scatterpolar": [
           {
            "marker": {
             "colorbar": {
              "outlinewidth": 0,
              "ticks": ""
             }
            },
            "type": "scatterpolar"
           }
          ],
          "scatterpolargl": [
           {
            "marker": {
             "colorbar": {
              "outlinewidth": 0,
              "ticks": ""
             }
            },
            "type": "scatterpolargl"
           }
          ],
          "scatterternary": [
           {
            "marker": {
             "colorbar": {
              "outlinewidth": 0,
              "ticks": ""
             }
            },
            "type": "scatterternary"
           }
          ],
          "surface": [
           {
            "colorbar": {
             "outlinewidth": 0,
             "ticks": ""
            },
            "colorscale": [
             [
              0,
              "#0d0887"
             ],
             [
              0.1111111111111111,
              "#46039f"
             ],
             [
              0.2222222222222222,
              "#7201a8"
             ],
             [
              0.3333333333333333,
              "#9c179e"
             ],
             [
              0.4444444444444444,
              "#bd3786"
             ],
             [
              0.5555555555555556,
              "#d8576b"
             ],
             [
              0.6666666666666666,
              "#ed7953"
             ],
             [
              0.7777777777777778,
              "#fb9f3a"
             ],
             [
              0.8888888888888888,
              "#fdca26"
             ],
             [
              1,
              "#f0f921"
             ]
            ],
            "type": "surface"
           }
          ],
          "table": [
           {
            "cells": {
             "fill": {
              "color": "#EBF0F8"
             },
             "line": {
              "color": "white"
             }
            },
            "header": {
             "fill": {
              "color": "#C8D4E3"
             },
             "line": {
              "color": "white"
             }
            },
            "type": "table"
           }
          ]
         },
         "layout": {
          "annotationdefaults": {
           "arrowcolor": "#2a3f5f",
           "arrowhead": 0,
           "arrowwidth": 1
          },
          "autotypenumbers": "strict",
          "coloraxis": {
           "colorbar": {
            "outlinewidth": 0,
            "ticks": ""
           }
          },
          "colorscale": {
           "diverging": [
            [
             0,
             "#8e0152"
            ],
            [
             0.1,
             "#c51b7d"
            ],
            [
             0.2,
             "#de77ae"
            ],
            [
             0.3,
             "#f1b6da"
            ],
            [
             0.4,
             "#fde0ef"
            ],
            [
             0.5,
             "#f7f7f7"
            ],
            [
             0.6,
             "#e6f5d0"
            ],
            [
             0.7,
             "#b8e186"
            ],
            [
             0.8,
             "#7fbc41"
            ],
            [
             0.9,
             "#4d9221"
            ],
            [
             1,
             "#276419"
            ]
           ],
           "sequential": [
            [
             0,
             "#0d0887"
            ],
            [
             0.1111111111111111,
             "#46039f"
            ],
            [
             0.2222222222222222,
             "#7201a8"
            ],
            [
             0.3333333333333333,
             "#9c179e"
            ],
            [
             0.4444444444444444,
             "#bd3786"
            ],
            [
             0.5555555555555556,
             "#d8576b"
            ],
            [
             0.6666666666666666,
             "#ed7953"
            ],
            [
             0.7777777777777778,
             "#fb9f3a"
            ],
            [
             0.8888888888888888,
             "#fdca26"
            ],
            [
             1,
             "#f0f921"
            ]
           ],
           "sequentialminus": [
            [
             0,
             "#0d0887"
            ],
            [
             0.1111111111111111,
             "#46039f"
            ],
            [
             0.2222222222222222,
             "#7201a8"
            ],
            [
             0.3333333333333333,
             "#9c179e"
            ],
            [
             0.4444444444444444,
             "#bd3786"
            ],
            [
             0.5555555555555556,
             "#d8576b"
            ],
            [
             0.6666666666666666,
             "#ed7953"
            ],
            [
             0.7777777777777778,
             "#fb9f3a"
            ],
            [
             0.8888888888888888,
             "#fdca26"
            ],
            [
             1,
             "#f0f921"
            ]
           ]
          },
          "colorway": [
           "#636efa",
           "#EF553B",
           "#00cc96",
           "#ab63fa",
           "#FFA15A",
           "#19d3f3",
           "#FF6692",
           "#B6E880",
           "#FF97FF",
           "#FECB52"
          ],
          "font": {
           "color": "#2a3f5f"
          },
          "geo": {
           "bgcolor": "white",
           "lakecolor": "white",
           "landcolor": "#E5ECF6",
           "showlakes": true,
           "showland": true,
           "subunitcolor": "white"
          },
          "hoverlabel": {
           "align": "left"
          },
          "hovermode": "closest",
          "mapbox": {
           "style": "light"
          },
          "paper_bgcolor": "white",
          "plot_bgcolor": "#E5ECF6",
          "polar": {
           "angularaxis": {
            "gridcolor": "white",
            "linecolor": "white",
            "ticks": ""
           },
           "bgcolor": "#E5ECF6",
           "radialaxis": {
            "gridcolor": "white",
            "linecolor": "white",
            "ticks": ""
           }
          },
          "scene": {
           "xaxis": {
            "backgroundcolor": "#E5ECF6",
            "gridcolor": "white",
            "gridwidth": 2,
            "linecolor": "white",
            "showbackground": true,
            "ticks": "",
            "zerolinecolor": "white"
           },
           "yaxis": {
            "backgroundcolor": "#E5ECF6",
            "gridcolor": "white",
            "gridwidth": 2,
            "linecolor": "white",
            "showbackground": true,
            "ticks": "",
            "zerolinecolor": "white"
           },
           "zaxis": {
            "backgroundcolor": "#E5ECF6",
            "gridcolor": "white",
            "gridwidth": 2,
            "linecolor": "white",
            "showbackground": true,
            "ticks": "",
            "zerolinecolor": "white"
           }
          },
          "shapedefaults": {
           "line": {
            "color": "#2a3f5f"
           }
          },
          "ternary": {
           "aaxis": {
            "gridcolor": "white",
            "linecolor": "white",
            "ticks": ""
           },
           "baxis": {
            "gridcolor": "white",
            "linecolor": "white",
            "ticks": ""
           },
           "bgcolor": "#E5ECF6",
           "caxis": {
            "gridcolor": "white",
            "linecolor": "white",
            "ticks": ""
           }
          },
          "title": {
           "x": 0.05
          },
          "xaxis": {
           "automargin": true,
           "gridcolor": "white",
           "linecolor": "white",
           "ticks": "",
           "title": {
            "standoff": 15
           },
           "zerolinecolor": "white",
           "zerolinewidth": 2
          },
          "yaxis": {
           "automargin": true,
           "gridcolor": "white",
           "linecolor": "white",
           "ticks": "",
           "title": {
            "standoff": 15
           },
           "zerolinecolor": "white",
           "zerolinewidth": 2
          }
         }
        },
        "xaxis": {
         "anchor": "y",
         "domain": [
          0,
          1
         ],
         "title": {
          "text": "index"
         }
        },
        "yaxis": {
         "anchor": "x",
         "domain": [
          0,
          1
         ],
         "title": {
          "text": "value"
         }
        }
       }
      }
     },
     "metadata": {},
     "output_type": "display_data"
    }
   ],
   "source": [
    "df_1_equalized = df_1.diff().dropna()\n",
    "\n",
    "fig = px.line(df_1_equalized, facet_col_wrap=1)\n",
    "fig.update_yaxes(matches=None)\n",
    "fig.show()"
   ]
  },
  {
   "cell_type": "code",
   "execution_count": 63,
   "metadata": {},
   "outputs": [
    {
     "name": "stdout",
     "output_type": "stream",
     "text": [
      "Lag Order = 1\n",
      "AIC :  0.6880149428925811\n",
      "BIC :  0.9310321542788607\n",
      "FPE :  1.9898404199504245\n",
      "HQIC:  0.786752274519734 \n",
      "\n",
      "Lag Order = 2\n",
      "AIC :  0.5804197859914912\n",
      "BIC :  1.0076244412455964\n",
      "FPE :  1.7871747834246103\n",
      "HQIC:  0.7539976707752696 \n",
      "\n",
      "Lag Order = 3\n",
      "AIC :  0.5367192601120371\n",
      "BIC :  1.1497891138877228\n",
      "FPE :  1.7114889464067347\n",
      "HQIC:  0.7858235820879923 \n",
      "\n",
      "Lag Order = 4\n",
      "AIC :  0.5602271903363929\n",
      "BIC :  1.3608659210564094\n",
      "FPE :  1.7536081882857313\n",
      "HQIC:  0.885553786650594 \n",
      "\n",
      "Lag Order = 5\n",
      "AIC :  0.5972473232558503\n",
      "BIC :  1.5871850897811839\n",
      "FPE :  1.8221394096397183\n",
      "HQIC:  0.9995021725393645 \n",
      "\n",
      "Lag Order = 6\n",
      "AIC :  0.5739660562281268\n",
      "BIC :  1.7549600696883696\n",
      "FPE :  1.783731588403153\n",
      "HQIC:  1.0538654710369015 \n",
      "\n",
      "Lag Order = 7\n",
      "AIC :  0.5748566208463078\n",
      "BIC :  1.9486917321257675\n",
      "FPE :  1.7903358199806247\n",
      "HQIC:  1.1331274442466615 \n",
      "\n",
      "Lag Order = 8\n",
      "AIC :  0.6523551367910089\n",
      "BIC :  2.2208444401836513\n",
      "FPE :  1.9419995561333638\n",
      "HQIC:  1.2897349431708909 \n",
      "\n",
      "Lag Order = 9\n",
      "AIC :  0.721215754384916\n",
      "BIC :  2.4862012079504985\n",
      "FPE :  2.090934465454739\n",
      "HQIC:  1.4384530545708407 \n",
      "\n",
      "Lag Order = 10\n",
      "AIC :  0.7098698601888916\n",
      "BIC :  2.6732229233626636\n",
      "FPE :  2.080778273256778\n",
      "HQIC:  1.5077243109479475 \n",
      "\n",
      "Lag Order = 11\n",
      "AIC :  0.8000451052940567\n",
      "BIC :  2.963667394323295\n",
      "FPE :  2.295831227903968\n",
      "HQIC:  1.6792877232996304 \n",
      "\n",
      "Lag Order = 12\n",
      "AIC :  0.8523580958542998\n",
      "BIC :  3.2181820576566493\n",
      "FPE :  2.4438519910025014\n",
      "HQIC:  1.8137714761930948 \n",
      "\n",
      "Lag Order = 13\n",
      "AIC :  0.9581057192275471\n",
      "BIC :  3.528095324288769\n",
      "FPE :  2.7505674822884223\n",
      "HQIC:  2.0024842585240776 \n",
      "\n",
      "Lag Order = 14\n",
      "AIC :  0.9799070350075803\n",
      "BIC :  3.756058489959858\n",
      "FPE :  2.854169317347806\n",
      "HQIC:  2.1080571592405626 \n",
      "\n",
      "Lag Order = 15\n",
      "AIC :  1.0129546751306278\n",
      "BIC :  3.9972971556770878\n",
      "FPE :  3.004506390690906\n",
      "HQIC:  2.2256950722134876 \n",
      "\n"
     ]
    },
    {
     "name": "stderr",
     "output_type": "stream",
     "text": [
      "/Users/klaustan/opt/anaconda3/lib/python3.9/site-packages/statsmodels/tsa/base/tsa_model.py:471: ValueWarning:\n",
      "\n",
      "An unsupported index was provided and will be ignored when e.g. forecasting.\n",
      "\n"
     ]
    }
   ],
   "source": [
    "from statsmodels.tsa.api import VAR\n",
    "\n",
    "model = VAR(df_1_equalized)\n",
    "for i in [1,2,3,4,5,6,7,8,9,10,11,12,13,14,15]:\n",
    "    result = model.fit(i)\n",
    "    print('Lag Order =', i)\n",
    "    print('AIC : ', result.aic)\n",
    "    print('BIC : ', result.bic)\n",
    "    print('FPE : ', result.fpe)\n",
    "    print('HQIC: ', result.hqic, '\\n')"
   ]
  },
  {
   "cell_type": "code",
   "execution_count": 64,
   "metadata": {},
   "outputs": [
    {
     "data": {
      "text/plain": [
       "  Summary of Regression Results   \n",
       "==================================\n",
       "Model:                         VAR\n",
       "Method:                        OLS\n",
       "Date:           Sat, 09, Sep, 2023\n",
       "Time:                     21:35:58\n",
       "--------------------------------------------------------------------\n",
       "No. of Equations:         3.00000    BIC:                    1.36087\n",
       "Nobs:                     145.000    HQIC:                  0.885554\n",
       "Log likelihood:          -618.855    FPE:                    1.75361\n",
       "AIC:                     0.560227    Det(Omega_mle):         1.35539\n",
       "--------------------------------------------------------------------\n",
       "Results for equation val1\n",
       "==========================================================================\n",
       "             coefficient       std. error           t-stat            prob\n",
       "--------------------------------------------------------------------------\n",
       "const           0.005509         0.080698            0.068           0.946\n",
       "L1.val1        -0.478524         0.089059           -5.373           0.000\n",
       "L1.val2         0.275448         0.071537            3.850           0.000\n",
       "L1.val3         0.214336         0.080547            2.661           0.008\n",
       "L2.val1        -0.370347         0.096726           -3.829           0.000\n",
       "L2.val2         0.253484         0.092264            2.747           0.006\n",
       "L2.val3         0.176636         0.083433            2.117           0.034\n",
       "L3.val1         0.005969         0.098624            0.061           0.952\n",
       "L3.val2         0.183577         0.092813            1.978           0.048\n",
       "L3.val3         0.106507         0.083863            1.270           0.204\n",
       "L4.val1        -0.070503         0.084035           -0.839           0.401\n",
       "L4.val2        -0.005016         0.075034           -0.067           0.947\n",
       "L4.val3        -0.123150         0.083890           -1.468           0.142\n",
       "==========================================================================\n",
       "\n",
       "Results for equation val2\n",
       "==========================================================================\n",
       "             coefficient       std. error           t-stat            prob\n",
       "--------------------------------------------------------------------------\n",
       "const           0.020468         0.100067            0.205           0.838\n",
       "L1.val1        -0.017934         0.110434           -0.162           0.871\n",
       "L1.val2        -0.756161         0.088707           -8.524           0.000\n",
       "L1.val3        -0.116157         0.099880           -1.163           0.245\n",
       "L2.val1        -0.084978         0.119941           -0.708           0.479\n",
       "L2.val2        -0.394792         0.114409           -3.451           0.001\n",
       "L2.val3         0.030426         0.103459            0.294           0.769\n",
       "L3.val1        -0.117315         0.122295           -0.959           0.337\n",
       "L3.val2        -0.243106         0.115090           -2.112           0.035\n",
       "L3.val3         0.100804         0.103992            0.969           0.332\n",
       "L4.val1         0.013072         0.104205            0.125           0.900\n",
       "L4.val2        -0.036268         0.093043           -0.390           0.697\n",
       "L4.val3         0.179176         0.104025            1.722           0.085\n",
       "==========================================================================\n",
       "\n",
       "Results for equation val3\n",
       "==========================================================================\n",
       "             coefficient       std. error           t-stat            prob\n",
       "--------------------------------------------------------------------------\n",
       "const          -0.032574         0.086554           -0.376           0.707\n",
       "L1.val1        -0.073292         0.095521           -0.767           0.443\n",
       "L1.val2         0.015557         0.076728            0.203           0.839\n",
       "L1.val3        -0.160416         0.086392           -1.857           0.063\n",
       "L2.val1         0.280401         0.103744            2.703           0.007\n",
       "L2.val2        -0.137610         0.098959           -1.391           0.164\n",
       "L2.val3        -0.163379         0.089488           -1.826           0.068\n",
       "L3.val1         0.182401         0.105780            1.724           0.085\n",
       "L3.val2        -0.145587         0.099548           -1.462           0.144\n",
       "L3.val3        -0.179717         0.089949           -1.998           0.046\n",
       "L4.val1         0.114374         0.090133            1.269           0.204\n",
       "L4.val2        -0.073635         0.080479           -0.915           0.360\n",
       "L4.val3        -0.205895         0.089977           -2.288           0.022\n",
       "==========================================================================\n",
       "\n",
       "Correlation matrix of residuals\n",
       "            val1      val2      val3\n",
       "val1    1.000000  0.260671 -0.067665\n",
       "val2    0.260671  1.000000 -0.082325\n",
       "val3   -0.067665 -0.082325  1.000000\n",
       "\n"
      ]
     },
     "execution_count": 64,
     "metadata": {},
     "output_type": "execute_result"
    }
   ],
   "source": [
    "model.select_order(8)\n",
    "\n",
    "results = model.fit(maxlags=15, ic='aic')\n",
    "results.summary()"
   ]
  },
  {
   "cell_type": "code",
   "execution_count": 59,
   "metadata": {},
   "outputs": [
    {
     "data": {
      "text/html": [
       "<div>\n",
       "<style scoped>\n",
       "    .dataframe tbody tr th:only-of-type {\n",
       "        vertical-align: middle;\n",
       "    }\n",
       "\n",
       "    .dataframe tbody tr th {\n",
       "        vertical-align: top;\n",
       "    }\n",
       "\n",
       "    .dataframe thead th {\n",
       "        text-align: right;\n",
       "    }\n",
       "</style>\n",
       "<table border=\"1\" class=\"dataframe\">\n",
       "  <thead>\n",
       "    <tr style=\"text-align: right;\">\n",
       "      <th></th>\n",
       "      <th>val1_x</th>\n",
       "      <th>val2_x</th>\n",
       "      <th>val3_x</th>\n",
       "    </tr>\n",
       "  </thead>\n",
       "  <tbody>\n",
       "    <tr>\n",
       "      <th>val1_y</th>\n",
       "      <td>1.0000</td>\n",
       "      <td>0.0057</td>\n",
       "      <td>0.0000</td>\n",
       "    </tr>\n",
       "    <tr>\n",
       "      <th>val2_y</th>\n",
       "      <td>0.5031</td>\n",
       "      <td>1.0000</td>\n",
       "      <td>0.2092</td>\n",
       "    </tr>\n",
       "    <tr>\n",
       "      <th>val3_y</th>\n",
       "      <td>0.0000</td>\n",
       "      <td>0.1047</td>\n",
       "      <td>1.0000</td>\n",
       "    </tr>\n",
       "  </tbody>\n",
       "</table>\n",
       "</div>"
      ],
      "text/plain": [
       "        val1_x  val2_x  val3_x\n",
       "val1_y  1.0000  0.0057  0.0000\n",
       "val2_y  0.5031  1.0000  0.2092\n",
       "val3_y  0.0000  0.1047  1.0000"
      ]
     },
     "execution_count": 59,
     "metadata": {},
     "output_type": "execute_result"
    }
   ],
   "source": [
    "from statsmodels.tsa.stattools import grangercausalitytests\n",
    "\n",
    "maxlag=15\n",
    "test = 'ssr_chi2test'\n",
    "\n",
    "def grangers_causation_matrix(data, variables, test='ssr_chi2test', verbose=False):    \n",
    "   \n",
    "    df = pd.DataFrame(np.zeros((len(variables), len(variables))), columns=variables, index=variables)\n",
    "    for c in df.columns:\n",
    "        for r in df.index:\n",
    "            test_result = grangercausalitytests(data[[r, c]], maxlag=maxlag, verbose=False)\n",
    "            p_values = [round(test_result[i+1][0][test][1],4) for i in range(maxlag)]\n",
    "            if verbose: print(f'Y = {r}, X = {c}, P Values = {p_values}')\n",
    "            min_p_value = np.min(p_values)\n",
    "            df.loc[r, c] = min_p_value\n",
    "    df.columns = [var + '_x' for var in variables]\n",
    "    df.index = [var + '_y' for var in variables]\n",
    "    return df\n",
    "\n",
    "grangers_causation_matrix(df_1, variables = df_1.columns)"
   ]
  }
 ],
 "metadata": {
  "kernelspec": {
   "display_name": "base",
   "language": "python",
   "name": "python3"
  },
  "language_info": {
   "codemirror_mode": {
    "name": "ipython",
    "version": 3
   },
   "file_extension": ".py",
   "mimetype": "text/x-python",
   "name": "python",
   "nbconvert_exporter": "python",
   "pygments_lexer": "ipython3",
   "version": "3.9.13"
  },
  "orig_nbformat": 4
 },
 "nbformat": 4,
 "nbformat_minor": 2
}
